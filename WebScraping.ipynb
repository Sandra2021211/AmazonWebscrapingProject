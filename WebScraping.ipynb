{
 "cells": [
  {
   "cell_type": "code",
   "execution_count": 2,
   "id": "ec04fa47",
   "metadata": {},
   "outputs": [],
   "source": [
    "# import libraries\n",
    "from bs4 import BeautifulSoup\n",
    "import requests\n",
    "import smtplib \n",
    "import time \n",
    "import datetime"
   ]
  },
  {
   "cell_type": "code",
   "execution_count": 3,
   "id": "77b72adc",
   "metadata": {},
   "outputs": [],
   "source": [
    "# Connect to website\n",
    "\n",
    "URL = 'https://www.amazon.in/Computer-Loading-Graphic-T-Shirt-Regular/dp/B0DYF458N4/ref=sr_1_1?crid=2CRN0G9LH17D7&dib=eyJ2IjoiMSJ9.sF0lKgBoc4JJR0paaD9AW8awNSO9eeIu5TbF5e75gty5508GlEwH7zSS57_JwC8lwb89Z2FXAf88zw6Thc_exTewdNNOZqCMEC_aTS6RD4J6PuB27FXfTKr949_B54BhUGKeCNHpHZ8OiP3uUfn85d0QPRpTVCjiKZ08QckYC5Cr3Kic1ELgNzrcQq8PYw7M61fXI6BEed4XrXPjmOvvmobYWkXB4Sprd64QBgPXCarXjGbFdUdOLbNsmGVdTc8Gu1NuxBhcVVpHyeT-haWE96h0dMxbHi86lgyKfqR4V9U.BeyenI68Y5Y_6GVt8TPNhGqWVcaJbVckEcrV8mz9CfA&dib_tag=se&keywords=data%2Banalyst%2Btshirt&qid=1754890867&sprefix=data%2Banalyst%2Caps%2C200&sr=8-1&th=1&psc=1'\n",
    "\n",
    "headers ={\"User-Agent\": \"Mozilla/5.0 (Windows NT 10.0; Win64; x64) AppleWebKit/537.36 (KHTML, like Gecko) Chrome/138.0.0.0 Safari/537.36\", \"Accept-Encoding\": \"gzip, deflate, br, zstd\", \"Accept\": \"text/html,application/xhtml+xml,application/xml;q=0.9,image/avif,image/webp,image/apng,*/*;q=0.8,application/signed-exchange;v=b3;q=0.7\", \"DNT\":\"1\",\"Connection\":\"close\", \"Upgrade-Insecure-Requests\":\"1\"}\n",
    "\n",
    "page = requests.get(URL, headers = headers)"
   ]
  },
  {
   "cell_type": "code",
   "execution_count": 4,
   "id": "d201c95f",
   "metadata": {},
   "outputs": [
    {
     "data": {
      "text/plain": [
       "<Response [200]>"
      ]
     },
     "execution_count": 4,
     "metadata": {},
     "output_type": "execute_result"
    }
   ],
   "source": [
    "page"
   ]
  },
  {
   "cell_type": "code",
   "execution_count": 5,
   "id": "ab1fed93",
   "metadata": {},
   "outputs": [
    {
     "data": {
      "text/plain": [
       "bytes"
      ]
     },
     "execution_count": 5,
     "metadata": {},
     "output_type": "execute_result"
    }
   ],
   "source": [
    "type(page.content)"
   ]
  },
  {
   "cell_type": "code",
   "execution_count": 6,
   "id": "e3e48ac2",
   "metadata": {},
   "outputs": [],
   "source": [
    "soup1 = BeautifulSoup(page.content, \"html.parser\")\n",
    "\n",
    "soup2 =  BeautifulSoup(soup1.prettify(), \"html.parser\")\n",
    "# print(soup2)"
   ]
  },
  {
   "cell_type": "code",
   "execution_count": 10,
   "id": "3bda6b3c",
   "metadata": {},
   "outputs": [
    {
     "name": "stdout",
     "output_type": "stream",
     "text": [
      "\n",
      "                  Retro Computer Loading Data Graphic T-Shirt, Black, Half Sleeve\n",
      "                 \n"
     ]
    }
   ],
   "source": [
    "title = soup2.find(id=\"productTitle\").get_text()\n",
    "print(title)"
   ]
  },
  {
   "cell_type": "code",
   "execution_count": 9,
   "id": "6b50f087",
   "metadata": {},
   "outputs": [
    {
     "name": "stdout",
     "output_type": "stream",
     "text": [
      "\n",
      "                    299\n",
      "                   \n"
     ]
    }
   ],
   "source": [
    "price = soup2.find(class_ = \"a-price-whole\").get_text()\n",
    "print(price)"
   ]
  },
  {
   "cell_type": "code",
   "execution_count": 12,
   "id": "863bf079",
   "metadata": {},
   "outputs": [
    {
     "name": "stdout",
     "output_type": "stream",
     "text": [
      "Retro Computer Loading Data Graphic T-Shirt, Black, Half Sleeve\n",
      "299\n"
     ]
    }
   ],
   "source": [
    "# Clean up the data \n",
    "price =  price.strip()\n",
    "title = title.strip()\n",
    "\n",
    "print(title)\n",
    "print(price)"
   ]
  },
  {
   "cell_type": "code",
   "execution_count": 13,
   "id": "7fda3733",
   "metadata": {},
   "outputs": [],
   "source": [
    "# Create a csv file and write the headers\n",
    "import csv \n",
    "header =['Title', 'Price']\n",
    "data = [title, price]\n",
    "\n",
    "with open('AmazonWebScraping.csv', 'w', newline='', encoding='UTF8') as f:\n",
    "    writer = csv.writer(f)\n",
    "    writer.writerow(header)\n",
    "    writer.writerow(data)  "
   ]
  }
 ],
 "metadata": {
  "kernelspec": {
   "display_name": "venv",
   "language": "python",
   "name": "python3"
  },
  "language_info": {
   "codemirror_mode": {
    "name": "ipython",
    "version": 3
   },
   "file_extension": ".py",
   "mimetype": "text/x-python",
   "name": "python",
   "nbconvert_exporter": "python",
   "pygments_lexer": "ipython3",
   "version": "3.13.5"
  }
 },
 "nbformat": 4,
 "nbformat_minor": 5
}
